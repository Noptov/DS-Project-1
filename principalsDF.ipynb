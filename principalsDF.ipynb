{
 "cells": [
  {
   "cell_type": "code",
   "execution_count": 1,
   "metadata": {},
   "outputs": [],
   "source": [
    "import pandas as pd\n",
    "import gzip as gz\n",
    "import sqlite3\n",
    "from zipfile import ZipFile"
   ]
  },
  {
   "cell_type": "code",
   "execution_count": 2,
   "metadata": {},
   "outputs": [],
   "source": [
    "imdb = 'data/im.db.zip'\n",
    "with ZipFile(imdb, 'r') as zip:\n",
    "    zip.extractall('data/imdb_unzipped')\n",
    "\n",
    "conn = sqlite3.connect('data/imdb_unzipped/im.db')"
   ]
  },
  {
   "cell_type": "code",
   "execution_count": 4,
   "metadata": {},
   "outputs": [],
   "source": [
    "q = \"\"\"\n",
    "SELECT pr.movie_id, pr.person_id, pr.category, p.primary_name, p.death_year, m.primary_title AS 'Movie Title'\n",
    "FROM principals pr\n",
    "    JOIN persons p\n",
    "        USING(person_id)\n",
    "    JOIN movie_basics m\n",
    "        USING(movie_id)\n",
    "\"\"\"\n",
    "principals_df = pd.read_sql(q, conn)"
   ]
  },
  {
   "cell_type": "code",
   "execution_count": 12,
   "metadata": {},
   "outputs": [
    {
     "name": "stdout",
     "output_type": "stream",
     "text": [
      "<class 'pandas.core.frame.DataFrame'>\n",
      "Int64Index: 1016069 entries, 0 to 1027911\n",
      "Data columns (total 6 columns):\n",
      " #   Column        Non-Null Count    Dtype  \n",
      "---  ------        --------------    -----  \n",
      " 0   movie_id      1016069 non-null  object \n",
      " 1   person_id     1016069 non-null  object \n",
      " 2   category      1016069 non-null  object \n",
      " 3   primary_name  1016069 non-null  object \n",
      " 4   death_year    1016069 non-null  float64\n",
      " 5   Movie Title   1016069 non-null  object \n",
      "dtypes: float64(1), object(5)\n",
      "memory usage: 54.3+ MB\n"
     ]
    }
   ],
   "source": [
    "# Replace Null to give value (0) for entries to keep\n",
    "principals_df['death_year'].fillna(0, inplace=True)\n",
    "\n",
    "# Remove rows without valid death year\n",
    "alive_ppl = principals_df[principals_df['death_year'] == 0]\n",
    "\n",
    "# Create cleaned DF\n",
    "alive_ppl.drop(columns=['death_year'], inplace=True)"
   ]
  }
 ],
 "metadata": {
  "kernelspec": {
   "display_name": "Python (learn-env)",
   "language": "python",
   "name": "learn-env"
  },
  "language_info": {
   "codemirror_mode": {
    "name": "ipython",
    "version": 3
   },
   "file_extension": ".py",
   "mimetype": "text/x-python",
   "name": "python",
   "nbconvert_exporter": "python",
   "pygments_lexer": "ipython3",
   "version": "3.8.5"
  }
 },
 "nbformat": 4,
 "nbformat_minor": 4
}
